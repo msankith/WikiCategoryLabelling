{
 "cells": [
  {
   "cell_type": "code",
   "execution_count": null,
   "metadata": {
    "collapsed": true
   },
   "outputs": [],
   "source": [
    "import numpy as np\n",
    "class DataParser:\n",
    "    def __init__(self):\n",
    "        self.data=[]\n",
    "    \n",
    "    def getDataFromfile(self,fname):\n",
    "        self.counter =0\n",
    "        self.totalPages=0\n",
    "        f=open(fname)\n",
    "        self.data=[]\n",
    "        totalPages = int(f.readline())\n",
    "        count=0\n",
    "        maxWordsInParagraph=paragraphLength\n",
    "        maxParagraphs=maxParagraph\n",
    "        totalLabels=labels\n",
    "\n",
    "        dummyParagraph =[0]*maxWordsInParagraph\n",
    "\n",
    "        while True:\n",
    "            pageId= f.readline()\n",
    "            if not pageId :\n",
    "                break\n",
    "\n",
    "            labelCount=int(f.readline())\n",
    "            labelsTemp=[0]*totalLabels\n",
    "            for i in range(labelCount):\n",
    "                tempLab=int(f.readline())\n",
    "                if tempLab<totalLabels:\n",
    "                    labelsTemp[tempLab]=1\n",
    "            instancesCount=int(f.readline())\n",
    "            instancesTemp=[]\n",
    "            for i in range(instancesCount):\n",
    "                tempInstance=f.readline().split()\n",
    "                temp=[int(x) for x in tempInstance]\n",
    "                for i in range(len(temp),maxWordsInParagraph):\n",
    "                    temp.append(0)\n",
    "                instancesTemp.append(temp[:maxWordsInParagraph])\n",
    "\n",
    "            for i in range(instancesCount,maxParagraphs):\n",
    "                instancesTemp.append(dummyParagraph)\n",
    "\n",
    "            self.data.append((labelsTemp,instancesTemp[:maxParagraphs]))\n",
    "        self.totalPages = len(self.data)\n",
    "        f.close()\n",
    "        \n",
    "          \n",
    "        \n",
    "    def nextBatch(self):\n",
    "        if self.counter >=self.totalPages:\n",
    "            self.counter=0\n",
    "        data= self.data[self.counter]\n",
    "        self.counter+=1\n",
    "        return data\n",
    "    def restore(self):\n",
    "        self.counter=0"
   ]
  }
 ],
 "metadata": {
  "kernelspec": {
   "display_name": "Python 3",
   "language": "python",
   "name": "python3"
  },
  "language_info": {
   "codemirror_mode": {
    "name": "ipython",
    "version": 3
   },
   "file_extension": ".py",
   "mimetype": "text/x-python",
   "name": "python",
   "nbconvert_exporter": "python",
   "pygments_lexer": "ipython3",
   "version": "3.4.3"
  }
 },
 "nbformat": 4,
 "nbformat_minor": 2
}
