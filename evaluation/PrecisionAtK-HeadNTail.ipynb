{
 "cells": [
  {
   "cell_type": "code",
   "execution_count": 1,
   "metadata": {
    "collapsed": true
   },
   "outputs": [],
   "source": [
    "import os, sys\n",
    "CURRENT_DIR = os.path.dirname(os.path.abspath(\"./WikiCategoryLabelling/\"))\n",
    "sys.path.append(os.path.dirname(CURRENT_DIR+\"/WikiCategoryLabelling/\"))\n",
    "\n"
   ]
  },
  {
   "cell_type": "code",
   "execution_count": 2,
   "metadata": {
    "collapsed": true
   },
   "outputs": [],
   "source": [
    "# from model import Model\n",
    "from DataParser import DataParser\n",
    "# from model1_batch import Model1_batch as Model\n",
    "# from model2 import Model2 as Model\n",
    "from model4 import Model4 as Model\n"
   ]
  },
  {
   "cell_type": "code",
   "execution_count": 3,
   "metadata": {
    "collapsed": true
   },
   "outputs": [],
   "source": [
    "# maxParagraphLength=250\n",
    "# maxParagraphs=10\n",
    "# labels=1000\n",
    "# vocabularySize=150000\n"
   ]
  },
  {
   "cell_type": "code",
   "execution_count": 4,
   "metadata": {
    "collapsed": true
   },
   "outputs": [],
   "source": [
    "# model = Model(maxParagraphLength,maxParagraphs,labels,vocabularySize)"
   ]
  },
  {
   "cell_type": "code",
   "execution_count": 5,
   "metadata": {
    "collapsed": true
   },
   "outputs": [],
   "source": [
    "# from model import Model\n",
    "# from DataParser import DataParser\n",
    "\n",
    "\n",
    "# In[ ]:\n",
    "\n",
    "# maxParagraphLength=250\n",
    "# maxParagraphs=10\n",
    "# labels=1000\n",
    "# vocabularySize=300000\n",
    "\n",
    "maxParagraphLength=250\n",
    "maxParagraphs=10\n",
    "labels=1002\n",
    "vocabularySize=76390\n",
    "model = Model(maxParagraphLength,maxParagraphs,labels,vocabularySize)"
   ]
  },
  {
   "cell_type": "code",
   "execution_count": 6,
   "metadata": {
    "collapsed": true
   },
   "outputs": [],
   "source": [
    "# from model import Model\n",
    "# from DataParser import DataParser\n",
    "\n",
    "\n",
    "# # In[ ]:\n",
    "\n",
    "# maxParagraphLength=250\n",
    "# maxParagraphs=10\n",
    "# labels=1000\n",
    "# vocabularySize=150000\n",
    "# model = Model(maxParagraphLength,maxParagraphs,labels,vocabularySize)\n"
   ]
  },
  {
   "cell_type": "code",
   "execution_count": 7,
   "metadata": {
    "collapsed": true
   },
   "outputs": [],
   "source": [
    "# training = DataParser(maxParagraphLength,maxParagraphs,labels,vocabularySize)\n",
    "# training.getDataFromfile(\"WikiCategoryLabelling/data/vocab_3L_l1000_red_train.txt\")\n"
   ]
  },
  {
   "cell_type": "code",
   "execution_count": 8,
   "metadata": {
    "collapsed": true
   },
   "outputs": [],
   "source": [
    "# training.restore()\n",
    "# truePreTraining=[]\n",
    "# # pred=[]\n",
    "# for itr in range(training.totalPages):\n",
    "#     data=training.nextBatch()\n",
    "#     truePreTraining.append(data[0])\n",
    "# #     pre=model.predict(data)\n",
    "# #     pred.append(pre[0])\n",
    "# #     break"
   ]
  },
  {
   "cell_type": "code",
   "execution_count": null,
   "metadata": {},
   "outputs": [],
   "source": [
    "labelsActive=10\n",
    "testing = DataParser(maxParagraphLength,maxParagraphs,labels,vocabularySize,labelsActive)\n",
    "testing.getDataFromfile(\"WikiCategoryLabelling/data/wiki_fea_76390_Label_1000_test\")\n"
   ]
  },
  {
   "cell_type": "code",
   "execution_count": null,
   "metadata": {
    "collapsed": true
   },
   "outputs": [],
   "source": []
  },
  {
   "cell_type": "code",
   "execution_count": null,
   "metadata": {},
   "outputs": [],
   "source": [
    "model.load(\"./WikiCategoryLabelling/model4_W3L_Alpha_5_batch_50_Exp2_l1000_20\")\n",
    "\n",
    "# new_wiki_model3_W_75K_Alpha_5_batch_50_Exp_l1000_50"
   ]
  },
  {
   "cell_type": "code",
   "execution_count": null,
   "metadata": {},
   "outputs": [],
   "source": [
    "print(\"loading done\")"
   ]
  },
  {
   "cell_type": "code",
   "execution_count": 8,
   "metadata": {
    "collapsed": true
   },
   "outputs": [],
   "source": [
    "testing.restore()\n",
    "truePre=[]\n",
    "pred=[]\n",
    "for itr in range(testing.totalPages):\n",
    "    data=testing.nextBatch(1)\n",
    "    truePre.append(data[0])\n",
    "    pre=model.predict(data)\n",
    "    pred.append(pre[0])\n",
    "#     if itr>100:\n",
    "#         break"
   ]
  },
  {
   "cell_type": "code",
   "execution_count": 9,
   "metadata": {
    "collapsed": true
   },
   "outputs": [],
   "source": [
    "# data=testing.nextBatch(1000)\n",
    "# truePre=data[0]\n",
    "# pre=model.predict(data)\n",
    "import numpy as np"
   ]
  },
  {
   "cell_type": "code",
   "execution_count": 10,
   "metadata": {},
   "outputs": [
    {
     "name": "stdout",
     "output_type": "stream",
     "text": [
      "(20218, 1, 1001)\n",
      "(20218, 1001)\n"
     ]
    }
   ],
   "source": [
    "print(np.array(truePre).shape)\n",
    "print(np.array(pred).shape)"
   ]
  },
  {
   "cell_type": "code",
   "execution_count": 11,
   "metadata": {
    "collapsed": true
   },
   "outputs": [],
   "source": [
    "tempPred=pred"
   ]
  },
  {
   "cell_type": "code",
   "execution_count": 25,
   "metadata": {
    "collapsed": true
   },
   "outputs": [],
   "source": [
    "kList=[1,2,3,4,5,6,7,8,10,15,20]\n",
    "precAtK={}\n",
    "for itr in kList:\n",
    "    precAtK[itr]=0\n",
    "for i,v in enumerate(pred):\n",
    "    temp=[(labId,labProb) for labId,labProb in enumerate(v) if labId<100 ]\n",
    "#     print(temp)\n",
    "    temp=sorted(temp,key=lambda x:x[1],reverse=True)\n",
    "    for ele in kList:\n",
    "        pBag=0\n",
    "        for itr in range(ele):\n",
    "            if truePre[i][0][temp[itr][0]]==1:\n",
    "                pBag+=1\n",
    "#         print(float(pBag)/float(ele))\n",
    "        precAtK[ele]+=float(pBag)/float(ele)\n",
    "#     print(temp)\n",
    "#     break\n",
    "#     if i > 1000:\n",
    "#         break\n",
    "#     break"
   ]
  },
  {
   "cell_type": "code",
   "execution_count": 26,
   "metadata": {},
   "outputs": [
    {
     "data": {
      "text/plain": [
       "{1: 12984.0,\n",
       " 2: 11083.0,\n",
       " 3: 9673.333333333321,\n",
       " 4: 8609.25,\n",
       " 5: 7726.999999999358,\n",
       " 6: 7022.500000000173,\n",
       " 7: 6413.428571428779,\n",
       " 8: 5902.125,\n",
       " 10: 5096.79999999989,\n",
       " 15: 3825.8666666666,\n",
       " 20: 3087.250000000026}"
      ]
     },
     "execution_count": 26,
     "metadata": {},
     "output_type": "execute_result"
    }
   ],
   "source": [
    "precAtK"
   ]
  },
  {
   "cell_type": "code",
   "execution_count": 27,
   "metadata": {},
   "outputs": [
    {
     "name": "stdout",
     "output_type": "stream",
     "text": [
      "0.6422000197843506\n",
      "0.5481748936591156\n",
      "0.4784515448280404\n",
      "0.42582105054901576\n",
      "0.38218419230385586\n",
      "0.34733900484717445\n",
      "0.317213798171371\n",
      "0.29192427539816007\n",
      "0.15269809081017044\n",
      "0.2520921950736913\n",
      "0.18923071850166187\n"
     ]
    }
   ],
   "source": [
    "for key in precAtK:\n",
    "#     print(key, precAtK[key]/len(pred))\n",
    "    print(precAtK[key]/len(pred))"
   ]
  },
  {
   "cell_type": "code",
   "execution_count": 15,
   "metadata": {},
   "outputs": [
    {
     "name": "stdout",
     "output_type": "stream",
     "text": [
      "0.6449203679889207\n",
      "0.5556187555643486\n",
      "0.48882184192304123\n",
      "0.4387303393016124\n",
      "0.3982985458502049\n",
      "0.36358690275992606\n",
      "0.33470881675452707\n",
      "0.30888935601938866\n",
      "0.26845385300227503\n",
      "0.20390411184752286\n",
      "0.16584973785735813\n"
     ]
    }
   ],
   "source": [
    "f=open(\"results/precAtK_model3_n\",\"w\")\n",
    "for key in sorted(precAtK.keys()):\n",
    "#     print(key, precAtK[key]/len(pred))\n",
    "    print(precAtK[key]/len(pred))\n",
    "    f.write(str(key)+\"\\t\"+ str(precAtK[key]/len(pred))+\"\\n\")\n",
    "f.close()"
   ]
  },
  {
   "cell_type": "code",
   "execution_count": null,
   "metadata": {
    "collapsed": true
   },
   "outputs": [],
   "source": []
  }
 ],
 "metadata": {
  "kernelspec": {
   "display_name": "Python 2",
   "language": "python",
   "name": "python2"
  },
  "language_info": {
   "codemirror_mode": {
    "name": "ipython",
    "version": 3
   },
   "file_extension": ".py",
   "mimetype": "text/x-python",
   "name": "python",
   "nbconvert_exporter": "python",
   "pygments_lexer": "ipython3",
   "version": "3.4.3"
  }
 },
 "nbformat": 4,
 "nbformat_minor": 2
}
