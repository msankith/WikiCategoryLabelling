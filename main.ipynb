{
 "cells": [
  {
   "cell_type": "code",
   "execution_count": 1,
   "metadata": {},
   "outputs": [],
   "source": [
    "from model2 import Model2\n",
    "from DataParser import DataParser\n",
    "\n"
   ]
  },
  {
   "cell_type": "code",
   "execution_count": 3,
   "metadata": {},
   "outputs": [],
   "source": [
    "maxParagraphLength=250\n",
    "maxParagraphs=10\n",
    "labels=1000\n",
    "vocabularySize=150000\n"
   ]
  },
  {
   "cell_type": "code",
   "execution_count": 7,
   "metadata": {
    "collapsed": true
   },
   "outputs": [],
   "source": [
    "model = Model2(maxParagraphLength,maxParagraphs,labels,vocabularySize)\n",
    "training = DataParser(maxParagraphLength,maxParagraphs,labels,vocabularySize)\n",
    "training.getDataFromfile(\"data/vocab_3L_l1000_red_train.txt\")\n"
   ]
  },
  {
   "cell_type": "code",
   "execution_count": null,
   "metadata": {
    "collapsed": true
   },
   "outputs": [],
   "source": [
    "epoch=5\n",
    "for e in range(epoch):\n",
    "    print 'Epoch: ' + str(e)\n",
    "    for itr in range(training.totalPages):\n",
    "        cost=model.train(training.nextBatch())\n",
    "    print str(cost)\n",
    "    model.save(\"model2_l1000_\"+str(e))\n"
   ]
  },
  {
   "cell_type": "code",
   "execution_count": 8,
   "metadata": {
    "collapsed": true
   },
   "outputs": [],
   "source": [
    "for itr in range(training.totalPages):\n",
    "    da=training.nextBatch()\n",
    "    break\n",
    "\n",
    "#     model.predict(testing.nextBatch())"
   ]
  },
  {
   "cell_type": "code",
   "execution_count": 9,
   "metadata": {},
   "outputs": [
    {
     "data": {
      "text/plain": [
       "5"
      ]
     },
     "execution_count": 9,
     "metadata": {},
     "output_type": "execute_result"
    }
   ],
   "source": [
    "sum(da[0])"
   ]
  },
  {
   "cell_type": "code",
   "execution_count": 4,
   "metadata": {},
   "outputs": [],
   "source": [
    "testing = DataParser(maxParagraphLength,maxParagraphs,labels,vocabularySize)\n",
    "testing.getDataFromfile(\"data/vocab_3L_l1000_red_test.txt\")\n"
   ]
  },
  {
   "cell_type": "code",
   "execution_count": 5,
   "metadata": {
    "collapsed": true
   },
   "outputs": [],
   "source": [
    "for itr in range(testing.totalPages):\n",
    "    da=testing.nextBatch()\n",
    "    break\n"
   ]
  },
  {
   "cell_type": "code",
   "execution_count": null,
   "metadata": {
    "collapsed": true
   },
   "outputs": [],
   "source": []
  }
 ],
 "metadata": {
  "kernelspec": {
   "display_name": "Python 3",
   "language": "python",
   "name": "python3"
  },
  "language_info": {
   "codemirror_mode": {
    "name": "ipython",
    "version": 3
   },
   "file_extension": ".py",
   "mimetype": "text/x-python",
   "name": "python",
   "nbconvert_exporter": "python",
   "pygments_lexer": "ipython3",
   "version": "3.4.3"
  }
 },
 "nbformat": 4,
 "nbformat_minor": 2
}
